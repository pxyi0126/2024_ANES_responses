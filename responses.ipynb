{
 "cells": [
  {
   "cell_type": "code",
   "execution_count": 1,
   "metadata": {},
   "outputs": [],
   "source": [
    "import pandas as pd\n",
    "from sklearn.feature_extraction.text import TfidfVectorizer\n",
    "from sklearn.metrics.pairwise import cosine_similarity\n",
    "from sklearn.feature_extraction.text import CountVectorizer\n",
    "from sklearn.cluster import KMeans\n",
    "import matplotlib.pyplot as plt"
   ]
  },
  {
   "cell_type": "code",
   "execution_count": 2,
   "metadata": {},
   "outputs": [],
   "source": [
    "# V241110 - PRE: What is it that R likes about Democratic Presidential candidate [text]\n",
    "df_likes_dcan = pd.read_excel('/Users/yipho/anes/anes_open2025.xlsx', sheet_name='V241110')\n",
    "df_likes_dcan['cleaned_response'] = df_likes_dcan['V241110 - PRE: What is it that R likes about Democratic Presidential candidate [text]'].fillna('').astype(str)\n",
    "\n",
    "# V241112 - PRE: What is it that R dislikes about Democratic Presidential candidate [text]\n",
    "df_dislikes_dcan = pd.read_excel('/Users/yipho/anes/anes_open2025.xlsx', sheet_name='V241112')\n",
    "df_dislikes_dcan['cleaned_response'] = df_dislikes_dcan['V241112 - PRE: What is it that R dislikes about Democratic Presidential candidate [text]'].fillna('').astype(str)\n",
    "\n",
    "# V241114 - PRE: What is it that R likes about Republican Presidential candidate [text]\n",
    "df_likes_rcan = pd.read_excel('/Users/yipho/anes/anes_open2025.xlsx', sheet_name='V241114')\n",
    "df_likes_rcan['cleaned_response'] = df_likes_rcan['V241114 - PRE: What is it that R likes about Republican Presidential candidate [text]'].fillna('').astype(str)\n",
    "\n",
    "# V241116 - PRE: What is it that R dislikes about Republican Presidential candidate [text]\n",
    "df_dislikes_rcan = pd.read_excel('/Users/yipho/anes/anes_open2025.xlsx', sheet_name='V241116')\n",
    "df_dislikes_rcan['cleaned_response'] = df_dislikes_rcan['V241116 - PRE: What is it that R dislikes about Republican Presidential candidate [text]'].fillna('').astype(str)\n",
    "\n",
    "# V241170 - PRE: What does R like about Democratic party [text]\n",
    "df_likes_dparty = pd.read_excel('/Users/yipho/anes/anes_open2025.xlsx', sheet_name='V241170')\n",
    "df_likes_dparty['cleaned_response'] = df_likes_dparty['V241170 - PRE: What does R like about Democratic party [text]'].fillna('').astype(str)\n",
    "\n",
    "# V241172 - PRE: What does R dislike about the Democratic party [text]\n",
    "df_dislikes_dparty = pd.read_excel('/Users/yipho/anes/anes_open2025.xlsx', sheet_name='V241172')\n",
    "df_dislikes_dparty['cleaned_response'] = df_dislikes_dparty['V241172 - PRE: What does R dislike about the Democratic party [text]'].fillna('').astype(str)\n",
    "\n",
    "# V241174 - PRE: What does R like about Republican party [text]\n",
    "df_likes_rparty = pd.read_excel('/Users/yipho/anes/anes_open2025.xlsx', sheet_name='V241174')\n",
    "df_likes_rparty['cleaned_response'] = df_likes_rparty['V241174 - PRE: What does R like about Republican party [text]'].fillna('').astype(str)\n",
    "\n",
    "# V241176 - PRE: What does R dislike about the Republican party [text]\n",
    "df_dislikes_rparty = pd.read_excel('/Users/yipho/anes/anes_open2025.xlsx', sheet_name='V241176')\n",
    "df_dislikes_rparty['cleaned_response'] = df_dislikes_rparty['V241176 - PRE: What does R dislike about the Republican party [text]'].fillna('').astype(str)"
   ]
  },
  {
   "cell_type": "code",
   "execution_count": 13,
   "metadata": {},
   "outputs": [
    {
     "name": "stdout",
     "output_type": "stream",
     "text": [
      "frozenset({'must', 'across', 'around', 'i', 'always', 'anywhere', 'down', 'give', 'etc', 'somehow', 'thereafter', 'might', 'con', 'their', 'will', 'fifteen', 'now', 'himself', 'at', 'since', 'could', 'wherein', 'is', 'up', 'may', 'are', 'on', 'too', 'whenever', 'indeed', 'thus', 'been', 'if', 'them', 'mostly', 'least', 'what', 'other', 'hers', 'she', 'where', 'whatever', 'perhaps', 'somewhere', 'everywhere', 'twelve', 'someone', 'sincere', 'these', 'amongst', 'do', 'less', 'not', 'whom', 'six', 'so', 'this', 'you', 'noone', 'although', 'found', 'even', 'interest', 'fill', 'elsewhere', 'cant', 'its', 'thereupon', 'everyone', 'him', 'before', 'neither', 'hereupon', 'take', 'over', 'alone', 'enough', 'thereby', 'still', 'together', 'detail', 'find', 'next', 'third', 'becomes', 'done', 'ours', 'put', 'via', 'no', 'yourselves', 'because', 'whether', 'has', 'about', 'would', 'whereafter', 'of', 'themselves', 'meanwhile', 'then', 'every', 'four', 'my', 'sometime', 'empty', 'both', 'any', 'besides', 'yourself', 'formerly', 'also', 'fire', 'nevertheless', 'your', 'above', 'ever', 'never', 'were', 'seeming', 'go', 'forty', 'sometimes', 'former', 'we', 'whereas', 'eleven', 'whereupon', 'without', 'during', 'two', 'yours', 'very', 'have', 'toward', 'became', 'whither', 'whereby', 'rather', 'and', 'anything', 'ltd', 'thence', 'ie', 'more', 'bottom', 'between', 'sixty', 'serious', 'becoming', 'almost', 'part', 'after', 'describe', 'here', 'cannot', 'such', 'often', 'nine', 'some', 'back', 'eight', 'except', 'three', 'keep', 'for', 'last', 'twenty', 'towards', 'they', 'few', 'once', 'hereafter', 'one', 'another', 'had', 'beside', 'into', 'with', 'anyone', 'mine', 'nothing', 'whose', 'us', 'however', 'side', 'that', 'therein', 'again', 'system', 'most', 'being', 'from', 'else', 'wherever', 'cry', 'seem', 'yet', 'everything', 'full', 'inc', 'his', 'thick', 'whole', 'why', 'made', 'an', 'nowhere', 'hereby', 'was', 'thin', 'but', 'first', 'below', 'further', 'amoungst', 'herein', 'he', 'either', 'anyhow', 'many', 'by', 'become', 'hasnt', 'myself', 'than', 'under', 'none', 'de', 'latter', 'show', 'something', 'it', 'the', 'itself', 'am', 'eg', 'while', 'get', 'nobody', 'bill', 'though', 'out', 'moreover', 'each', 'onto', 'along', 'to', 'throughout', 'fifty', 'five', 'seems', 'whence', 'hence', 'be', 'thru', 'per', 'co', 'own', 'our', 'others', 'move', 'anyway', 'much', 'latterly', 'already', 'un', 'all', 'or', 'off', 'several', 'herself', 'a', 'behind', 'please', 'therefore', 'as', 'among', 'same', 'how', 'which', 'when', 'against', 'top', 'beyond', 'due', 'namely', 'hundred', 'her', 'name', 'see', 're', 'ten', 'can', 'within', 'couldnt', 'amount', 'those', 'front', 'seemed', 'nor', 'there', 'well', 'until', 'otherwise', 'afterwards', 'whoever', 'mill', 'call', 'only', 'beforehand', 'in', 'upon', 'ourselves', 'through', 'me', 'should', 'who'})\n",
      "318\n",
      "ae               371\n",
      "don              229\n",
      "border           197\n",
      "think            191\n",
      "policies         189\n",
      "                ... \n",
      "irks               1\n",
      "ironically         1\n",
      "isa                1\n",
      "isinformation      1\n",
      "narcissist         1\n",
      "Length: 3561, dtype: int64\n",
      "ae             354\n",
      "trump          319\n",
      "like           236\n",
      "rights         224\n",
      "people         221\n",
      "              ... \n",
      "happly           1\n",
      "hardworking      1\n",
      "haria            1\n",
      "harrassing       1\n",
      "zero             1\n",
      "Length: 3335, dtype: int64\n"
     ]
    }
   ],
   "source": [
    "# # bow EDA\n",
    "vectorizer = CountVectorizer(stop_words='english')\n",
    "print(vectorizer.get_stop_words())\n",
    "print(len(vectorizer.get_stop_words()))\n",
    "# make custom stop words YES\n",
    "#can I change these stop words?\n",
    "\n",
    "X_dislikes_dcan = vectorizer.fit_transform(df_dislikes_dcan['cleaned_response'])\n",
    "bow_df_dl_dcan = pd.DataFrame(X_dislikes_dcan.toarray(), columns=vectorizer.get_feature_names_out())\n",
    "\n",
    "\n",
    "X_likes_dcan = vectorizer.fit_transform(df_likes_dcan['cleaned_response'])\n",
    "bow_df_l_dcan = pd.DataFrame(X_likes_dcan.toarray(), columns=vectorizer.get_feature_names_out())\n",
    "\n",
    "dislikes_sum = bow_df_dl_dcan.sum().sort_values(ascending=False)\n",
    "likes_sum = bow_df_l_dcan.sum().sort_values(ascending=False)\n",
    "print(dislikes_sum)\n",
    "print(likes_sum)"
   ]
  },
  {
   "cell_type": "code",
   "execution_count": 14,
   "metadata": {},
   "outputs": [
    {
     "name": "stdout",
     "output_type": "stream",
     "text": [
      "            Likes  Dislikes\n",
      "ae          354.0     371.0\n",
      "trump       319.0      63.0\n",
      "like        236.0     179.0\n",
      "rights      224.0      25.0\n",
      "people      221.0     139.0\n",
      "think       206.0     191.0\n",
      "ao          189.0     160.0\n",
      "woman       186.0      33.0\n",
      "donald      149.0      18.0\n",
      "good        147.0      56.0\n",
      "women       144.0      20.0\n",
      "policies    142.0     189.0\n",
      "president   127.0     166.0\n",
      "country     125.0     136.0\n",
      "10          103.0     137.0\n",
      "char        103.0     138.0\n",
      "class        94.0      22.0\n",
      "experience   88.0      57.0\n",
      "abortion     87.0      90.0\n",
      "just         84.0     148.0\n"
     ]
    }
   ],
   "source": [
    "comparison_df = pd.concat([likes_sum, dislikes_sum], axis=1)\n",
    "comparison_df.columns = ['Likes', 'Dislikes']\n",
    "\n",
    "print(comparison_df.sort_values(by='Likes', ascending=False).head(20))"
   ]
  }
 ],
 "metadata": {
  "kernelspec": {
   "display_name": "pds",
   "language": "python",
   "name": "python3"
  },
  "language_info": {
   "codemirror_mode": {
    "name": "ipython",
    "version": 3
   },
   "file_extension": ".py",
   "mimetype": "text/x-python",
   "name": "python",
   "nbconvert_exporter": "python",
   "pygments_lexer": "ipython3",
   "version": "3.10.15"
  }
 },
 "nbformat": 4,
 "nbformat_minor": 2
}
